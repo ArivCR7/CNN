{
 "cells": [
  {
   "cell_type": "code",
   "execution_count": 1,
   "metadata": {},
   "outputs": [],
   "source": [
    "import numpy as np\n",
    "import matplotlib.pyplot as plt"
   ]
  },
  {
   "cell_type": "code",
   "execution_count": 2,
   "metadata": {},
   "outputs": [],
   "source": [
    "def zero_pad(X, pad):\n",
    "    #dimensions of X - (batch_size, height, width, no.of channels) note: no padding requires in 0th and 3rd dimensions.\n",
    "    pad_X = np.pad(X,((0,0),(pad,pad),(pad,pad),(0,0)),'constant',constant_values=0 )\n",
    "    return pad_X\n"
   ]
  },
  {
   "cell_type": "code",
   "execution_count": 5,
   "metadata": {},
   "outputs": [
    {
     "name": "stdout",
     "output_type": "stream",
     "text": [
      "Before padding shape: (4, 3, 3, 3)\n",
      "after padding shape:  (4, 7, 7, 3)\n"
     ]
    },
    {
     "data": {
      "text/plain": [
       "<matplotlib.image.AxesImage at 0x2ad89895240>"
      ]
     },
     "execution_count": 5,
     "metadata": {},
     "output_type": "execute_result"
    },
    {
     "data": {
      "image/png": "[encoded data removed]",
      "text/plain": [
       "<Figure size 432x288 with 2 Axes>"
      ]
     },
     "metadata": {
      "needs_background": "light"
     },
     "output_type": "display_data"
    }
   ],
   "source": [
    "a = np.random.randn(4,3,3,3)\n",
    "print(\"Before padding shape:\",a.shape)\n",
    "a_pad = zero_pad(a,2)\n",
    "print(\"after padding shape: \",a_pad.shape)\n",
    "#print(\"a[1,1] = \",a[1,1])\n",
    "#print(\"a_pad[1,1] = \",a_pad[1,1])\n",
    "\n",
    "fig, axarr = plt.subplots(1,2)\n",
    "axarr[0].set_title(\"a\")\n",
    "axarr[0].imshow(a[0,:,:,0])\n",
    "axarr[1].set_title(\"a_pad\")\n",
    "axarr[1].imshow(a_pad[0,:,:,0])"
   ]
  },
  {
   "cell_type": "code",
   "execution_count": 18,
   "metadata": {},
   "outputs": [
    {
     "name": "stdout",
     "output_type": "stream",
     "text": [
      "After one step of convolution:  29.68975484857136\n"
     ]
    }
   ],
   "source": [
    "def conv_single_step(a_slice, W, b):\n",
    "    z = np.multiply(a_slice, W) + b\n",
    "    S = np.sum(z)\n",
    "    return S\n",
    "\n",
    "a_slice = np.random.randn(4,4,3)\n",
    "W = np.random.randn(4,4,3)\n",
    "b = np.random.randn(1,1,1)\n",
    "Z = conv_single_step(a_slice, W, b)\n",
    "print(\"After one step of convolution: \",Z)\n"
   ]
  },
  {
   "cell_type": "code",
   "execution_count": 56,
   "metadata": {},
   "outputs": [],
   "source": [
    "def convolution_forward_prop(A_prev, W, b, hyperparameters):\n",
    "    #get input dimensions\n",
    "    (i_samples, i_height, i_width, i_ch) = A_prev.shape\n",
    "    #get filter dimensions\n",
    "    (f_height, f_width, f_ch, n_filters) = W.shape\n",
    "    \n",
    "    assert(i_ch == f_ch)\n",
    "        \n",
    "    pad = hyperparameters['padding']\n",
    "    stride = hyperparameters['stride']\n",
    "    o_height = int((i_height - f_height + 2*pad)/stride) + 1\n",
    "    o_width  = int((i_width - f_width + 2*pad)/stride) + 1\n",
    "    print(\"Output height and width: \", o_height, o_width)\n",
    "    a_prev_padded = zero_pad(A_prev, pad)\n",
    "    print(\"dimensions of A_prev after padding: \",a_prev_padded.shape)\n",
    "    out = np.zeros((i_samples, o_height, o_width, n_filters))\n",
    "    for i in range(i_samples):\n",
    "        a_prev = a_prev_padded[i]\n",
    "        for h in range(i_height):\n",
    "            for w in range(i_width):\n",
    "                for c in range(n_filters):\n",
    "                    vert_start = h * stride\n",
    "                    vert_end = vert_start + f_height\n",
    "                    horiz_start = w * stride\n",
    "                    horiz_end = horiz_start + f_width\n",
    "                    a_slice = a_prev[vert_start:vert_end, horiz_start: horiz_end,:]\n",
    "                    out[i, h, w, c] = conv_single_step(a_slice, W[...,c],b[...,c])\n",
    "    \n",
    "    #making sure output volume is correct\n",
    "    assert(out.shape==(i_samples,o_height, o_width, n_filters))\n",
    "    cache = (A_prev, W, b, hyperparameters)\n",
    "    return out,cache\n"
   ]
  },
  {
   "cell_type": "code",
   "execution_count": 62,
   "metadata": {},
   "outputs": [
    {
     "name": "stdout",
     "output_type": "stream",
     "text": [
      "Output height and width:  7 7\n",
      "dimensions of A_prev after padding:  (10, 8, 8, 3)\n",
      "shape of out: (10, 7, 7, 8)\n",
      "out's mean:  0.1962323907779711\n",
      "-2.9323823033305247\n"
     ]
    }
   ],
   "source": [
    "A_prev = np.random.randn(10,4,4,3)\n",
    "W = np.random.randn(2,2,3,8)\n",
    "b = np.random.randn(1,1,1,8)\n",
    "hyperparameters = {'padding': 2, 'stride':1}\n",
    "out,cache = convolution_forward_prop(A_prev, W,b, hyperparameters)\n",
    "print(\"shape of out:\",out.shape)\n",
    "print(\"out's mean: \",np.mean(out))\n",
    "print(out[0][1][2][3])"
   ]
  },
  {
   "cell_type": "code",
   "execution_count": 80,
   "metadata": {},
   "outputs": [],
   "source": [
    "def forward_pooling(A_prev, hyperparameters, mode=\"max\"):\n",
    "    (i_samples, i_height, i_width, i_ch) = A_prev.shape\n",
    "    f = hyperparameters['f']\n",
    "    stride = hyperparameters['stride']\n",
    "    o_height = int((i_height - f)/stride + 1)\n",
    "    o_width = int((i_width - f)/stride + 1)\n",
    "    print(\"o_height: \",o_height)\n",
    "    print(\"o_width: \",o_width)\n",
    "    A = np.zeros((i_samples, o_height, o_width, i_ch))\n",
    "    for n in range(i_samples):\n",
    "        for h in range(i_height):\n",
    "            for w in range(i_width):\n",
    "                for ch in range(i_ch):\n",
    "                    vert_start = h*stride\n",
    "                    vert_end = vert_start + f\n",
    "                    horiz_start = w*stride\n",
    "                    horiz_end = horiz_start + f\n",
    "                    a_slice = A_prev[n,vert_start:vert_end,horiz_start:horiz_end,ch]\n",
    "                    print(a_slice.shape)\n",
    "                    if mode==\"max\":\n",
    "                        A[n,h,w,ch] = np.max(a_slice)\n",
    "                    elif mode==\"avg\":\n",
    "                        A[n,h,w,ch] = np.mean(a_slice)\n",
    "    cache = (A_prev, hyperparameters)\n",
    "    return A, cache\n"
   ]
  },
  {
   "cell_type": "code",
   "execution_count": 81,
   "metadata": {},
   "outputs": [
    {
     "name": "stdout",
     "output_type": "stream",
     "text": [
      "o_height:  1\n",
      "o_width:  1\n",
      "(4, 4)\n",
      "(4, 4)\n",
      "(4, 4)\n",
      "(4, 3)\n"
     ]
    },
    {
     "ename": "IndexError",
     "evalue": "index 1 is out of bounds for axis 2 with size 1",
     "output_type": "error",
     "traceback": [
      "\u001b[1;31m---------------------------------------------------------------------------\u001b[0m",
      "\u001b[1;31mIndexError\u001b[0m                                Traceback (most recent call last)",
      "\u001b[1;32m<ipython-input-81-6dc93d763d0a>\u001b[0m in \u001b[0;36m<module>\u001b[1;34m()\u001b[0m\n\u001b[0;32m      1\u001b[0m \u001b[0mA_prev\u001b[0m \u001b[1;33m=\u001b[0m \u001b[0mnp\u001b[0m\u001b[1;33m.\u001b[0m\u001b[0mrandom\u001b[0m\u001b[1;33m.\u001b[0m\u001b[0mrandn\u001b[0m\u001b[1;33m(\u001b[0m\u001b[1;36m2\u001b[0m\u001b[1;33m,\u001b[0m\u001b[1;36m4\u001b[0m\u001b[1;33m,\u001b[0m\u001b[1;36m4\u001b[0m\u001b[1;33m,\u001b[0m\u001b[1;36m3\u001b[0m\u001b[1;33m)\u001b[0m\u001b[1;33m\u001b[0m\u001b[0m\n\u001b[0;32m      2\u001b[0m \u001b[0mhyperparameters\u001b[0m \u001b[1;33m=\u001b[0m \u001b[1;33m{\u001b[0m\u001b[1;34m'f'\u001b[0m\u001b[1;33m:\u001b[0m\u001b[1;36m4\u001b[0m\u001b[1;33m,\u001b[0m \u001b[1;34m'stride'\u001b[0m\u001b[1;33m:\u001b[0m\u001b[1;36m1\u001b[0m\u001b[1;33m}\u001b[0m\u001b[1;33m\u001b[0m\u001b[0m\n\u001b[1;32m----> 3\u001b[1;33m \u001b[0mout\u001b[0m \u001b[1;33m=\u001b[0m \u001b[0mforward_pooling\u001b[0m\u001b[1;33m(\u001b[0m\u001b[0mA_prev\u001b[0m\u001b[1;33m,\u001b[0m \u001b[0mhyperparameters\u001b[0m\u001b[1;33m)\u001b[0m\u001b[1;33m\u001b[0m\u001b[0m\n\u001b[0m",
      "\u001b[1;32m<ipython-input-80-bbf2f52ef10f>\u001b[0m in \u001b[0;36mforward_pooling\u001b[1;34m(A_prev, hyperparameters, mode)\u001b[0m\n\u001b[0;32m     19\u001b[0m                     \u001b[0mprint\u001b[0m\u001b[1;33m(\u001b[0m\u001b[0ma_slice\u001b[0m\u001b[1;33m.\u001b[0m\u001b[0mshape\u001b[0m\u001b[1;33m)\u001b[0m\u001b[1;33m\u001b[0m\u001b[0m\n\u001b[0;32m     20\u001b[0m                     \u001b[1;32mif\u001b[0m \u001b[0mmode\u001b[0m\u001b[1;33m==\u001b[0m\u001b[1;34m\"max\"\u001b[0m\u001b[1;33m:\u001b[0m\u001b[1;33m\u001b[0m\u001b[0m\n\u001b[1;32m---> 21\u001b[1;33m                         \u001b[0mA\u001b[0m\u001b[1;33m[\u001b[0m\u001b[0mn\u001b[0m\u001b[1;33m,\u001b[0m\u001b[0mh\u001b[0m\u001b[1;33m,\u001b[0m\u001b[0mw\u001b[0m\u001b[1;33m,\u001b[0m\u001b[0mch\u001b[0m\u001b[1;33m]\u001b[0m \u001b[1;33m=\u001b[0m \u001b[0mnp\u001b[0m\u001b[1;33m.\u001b[0m\u001b[0mmax\u001b[0m\u001b[1;33m(\u001b[0m\u001b[0ma_slice\u001b[0m\u001b[1;33m)\u001b[0m\u001b[1;33m\u001b[0m\u001b[0m\n\u001b[0m\u001b[0;32m     22\u001b[0m                     \u001b[1;32melif\u001b[0m \u001b[0mmode\u001b[0m\u001b[1;33m==\u001b[0m\u001b[1;34m\"avg\"\u001b[0m\u001b[1;33m:\u001b[0m\u001b[1;33m\u001b[0m\u001b[0m\n\u001b[0;32m     23\u001b[0m                         \u001b[0mA\u001b[0m\u001b[1;33m[\u001b[0m\u001b[0mn\u001b[0m\u001b[1;33m,\u001b[0m\u001b[0mh\u001b[0m\u001b[1;33m,\u001b[0m\u001b[0mw\u001b[0m\u001b[1;33m,\u001b[0m\u001b[0mch\u001b[0m\u001b[1;33m]\u001b[0m \u001b[1;33m=\u001b[0m \u001b[0mnp\u001b[0m\u001b[1;33m.\u001b[0m\u001b[0mmean\u001b[0m\u001b[1;33m(\u001b[0m\u001b[0ma_slice\u001b[0m\u001b[1;33m)\u001b[0m\u001b[1;33m\u001b[0m\u001b[0m\n",
      "\u001b[1;31mIndexError\u001b[0m: index 1 is out of bounds for axis 2 with size 1"
     ]
    }
   ],
   "source": [
    "A_prev = np.random.randn(2,4,4,3)\n",
    "hyperparameters = {'f':4, 'stride':1}\n",
    "out = forward_pooling(A_prev, hyperparameters)"
   ]
  },
  {
   "cell_type": "code",
   "execution_count": null,
   "metadata": {},
   "outputs": [],
   "source": []
  }
 ],
 "metadata": {
  "kernelspec": {
   "display_name": "Python 3",
   "language": "python",
   "name": "python3"
  },
  "language_info": {
   "codemirror_mode": {
    "name": "ipython",
    "version": 3
   },
   "file_extension": ".py",
   "mimetype": "text/x-python",
   "name": "python",
   "nbconvert_exporter": "python",
   "pygments_lexer": "ipython3",
   "version": "3.5.6"
  }
 },
 "nbformat": 4,
 "nbformat_minor": 2
}
