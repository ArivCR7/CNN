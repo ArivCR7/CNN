{
 "cells": [
  {
   "cell_type": "code",
   "execution_count": 1,
   "metadata": {},
   "outputs": [],
   "source": [
    "import numpy as np\n",
    "import pandas as pd\n",
    "import tensorflow as tf\n",
    "from matplotlib import pyplot as plt\n",
    "from PIL import Image\n",
    "from scipy import ndimage\n",
    "import h5py\n",
    "import math"
   ]
  },
  {
   "cell_type": "code",
   "execution_count": 2,
   "metadata": {},
   "outputs": [],
   "source": [
    "def load_dataset():\n",
    "    train_data = h5py.File('C:/Users/a.ezhilarasan/Documents/AI/DeepLearning/CNN/hand_signs/train_signs.h5','r')\n",
    "    test_data = h5py.File('C:/Users/a.ezhilarasan/Documents/AI/DeepLearning/CNN/hand_signs/test_signs.h5','r')\n",
    "    train_x = np.array(train_data['train_set_x'][:])\n",
    "    train_y = np.array(train_data['train_set_y'][:])\n",
    "    test_x = np.array(test_data['test_set_x'][:])\n",
    "    test_y = np.array(test_data['test_set_y'][:])\n",
    "    classes = np.array(test_data['list_classes'][:])\n",
    "    return train_x, train_y, test_x, test_y, classes"
   ]
  },
  {
   "cell_type": "code",
   "execution_count": 3,
   "metadata": {},
   "outputs": [],
   "source": [
    "def convert_to_one_hot(a, classes):\n",
    "    return(np.eye(classes)[a.reshape(-1)])"
   ]
  },
  {
   "cell_type": "code",
   "execution_count": 33,
   "metadata": {},
   "outputs": [],
   "source": [
    "def random_mini_batches(train_x, train_y, batch_size=64):\n",
    "    m = train_x.shape[0]\n",
    "    permutations = list(np.random.permutation(m))\n",
    "    shuffled_x = train_x[permutations,:,:,:]\n",
    "    shuffled_y = train_y[permutations,:]\n",
    "    mini_batches = []\n",
    "    total_batches = math.floor(m/batch_size)\n",
    "    \n",
    "    for k in range(total_batches):\n",
    "        mini_batch_x = shuffled_x[k*batch_size:k*batch_size+batch_size,:,:,:]\n",
    "        mini_batch_y = shuffled_y[k*batch_size:k*batch_size+batch_size,:]\n",
    "        mini_batch = (mini_batch_x,mini_batch_y)\n",
    "        mini_batches.append(mini_batch)\n",
    "    \n",
    "    if(m%batch_size!=0):\n",
    "        mini_batch_x = shuffled_x[batch_size*total_batches:m,:,:,:]\n",
    "        mini_batch_y = shuffled_y[batch_size*total_batches:m,:]\n",
    "        mini_batch = (mini_batch_x,mini_batch_y)\n",
    "        mini_batches.append(mini_batch)\n",
    "    \n",
    "    return mini_batches\n",
    "    "
   ]
  },
  {
   "cell_type": "code",
   "execution_count": 34,
   "metadata": {},
   "outputs": [],
   "source": [
    "train_x, train_y, test_x, test_y, classes = load_dataset()"
   ]
  },
  {
   "cell_type": "code",
   "execution_count": 92,
   "metadata": {},
   "outputs": [],
   "source": [
    "train_x = train_x/255\n",
    "test_x = test_x/255"
   ]
  },
  {
   "cell_type": "code",
   "execution_count": 35,
   "metadata": {},
   "outputs": [],
   "source": [
    "train_y = convert_to_one_hot(train_y, 6)\n",
    "test_y = convert_to_one_hot(test_y, 6)"
   ]
  },
  {
   "cell_type": "code",
   "execution_count": 36,
   "metadata": {},
   "outputs": [
    {
     "name": "stdout",
     "output_type": "stream",
     "text": [
      "no. of training examples: 1080\n",
      "no. of test examples: 120\n",
      "shape of train_x: (1080, 64, 64, 3)\n",
      "shape of train_y: (1080, 6)\n",
      "shape of test_x: (120, 64, 64, 3)\n",
      "shape of test_y: (120, 6)\n"
     ]
    }
   ],
   "source": [
    "print(\"no. of training examples: {}\".format(train_x.shape[0]))\n",
    "print(\"no. of test examples: {}\".format(test_x.shape[0]))\n",
    "print(\"shape of train_x: {}\".format(train_x.shape))\n",
    "print(\"shape of train_y: {}\".format(train_y.shape))\n",
    "print(\"shape of test_x: {}\".format(test_x.shape))\n",
    "print(\"shape of test_y: {}\".format(test_y.shape))"
   ]
  },
  {
   "cell_type": "code",
   "execution_count": 37,
   "metadata": {},
   "outputs": [
    {
     "data": {
      "text/plain": [
       "1080"
      ]
     },
     "execution_count": 37,
     "metadata": {},
     "output_type": "execute_result"
    }
   ],
   "source": [
    "len(train_x)"
   ]
  },
  {
   "cell_type": "code",
   "execution_count": 93,
   "metadata": {},
   "outputs": [
    {
     "name": "stdout",
     "output_type": "stream",
     "text": [
      "y = [0. 0. 0. 0. 1. 0.]\n"
     ]
    },
    {
     "data": {
      "image/png": "[encoded data removed]",
      "text/plain": [
       "<Figure size 432x288 with 1 Axes>"
      ]
     },
     "metadata": {
      "needs_background": "light"
     },
     "output_type": "display_data"
    }
   ],
   "source": [
    "#visualizing few examples\n",
    "index = 17\n",
    "img = plt.imshow(train_x[index])\n",
    "print(\"y = {}\".format(train_y[index]))"
   ]
  },
  {
   "cell_type": "code",
   "execution_count": 94,
   "metadata": {},
   "outputs": [],
   "source": [
    "def create_placeholders(H, W, ch, classes):\n",
    "    X = tf.placeholder(tf.float32, shape=[None, H, W, ch])\n",
    "    Y = tf.placeholder(tf.float32, shape=[None, classes])\n",
    "    return X, Y\n"
   ]
  },
  {
   "cell_type": "code",
   "execution_count": 95,
   "metadata": {},
   "outputs": [
    {
     "name": "stdout",
     "output_type": "stream",
     "text": [
      "X:  Tensor(\"Placeholder_4:0\", shape=(?, 64, 64, 3), dtype=float32)\n",
      "Y:  Tensor(\"Placeholder_5:0\", shape=(?, 6), dtype=float32)\n"
     ]
    }
   ],
   "source": [
    "X, Y = create_placeholders(train_x.shape[1],train_x.shape[2],train_x.shape[3],train_y.shape[1])\n",
    "print(\"X: \",X)\n",
    "print(\"Y: \",Y)"
   ]
  },
  {
   "cell_type": "code",
   "execution_count": 111,
   "metadata": {},
   "outputs": [],
   "source": [
    "#initialize weights and biases for the first convolution layer\n",
    "w_c1 = tf.Variable(tf.random_normal([5,5,3,64]))\n",
    "#b_c1 = tf.Variable(tf.random_normal([32])) --not used"
   ]
  },
  {
   "cell_type": "code",
   "execution_count": 112,
   "metadata": {},
   "outputs": [],
   "source": [
    "def conv2d(x, w):\n",
    "    return(tf.nn.conv2d(x,w,strides=[1,1,1,1],padding='SAME'))"
   ]
  },
  {
   "cell_type": "code",
   "execution_count": 113,
   "metadata": {},
   "outputs": [],
   "source": [
    "def maxpool2d(x):\n",
    "    return(tf.nn.max_pool(x, ksize=[1,2,2,1], strides=[1,2,2,1], padding='SAME'))"
   ]
  },
  {
   "cell_type": "code",
   "execution_count": 99,
   "metadata": {},
   "outputs": [],
   "source": [
    "#First convolution layer\n",
    "conv1 = tf.nn.relu(conv2d(X,w_c1))\n",
    "#after convolution the output dimension will  be 64 x 64 x 64 as we used 'SAME' padding\n",
    "conv1 = maxpool2d(conv1)\n",
    "#after pooling the output dimension will be 32 x 32 x 64 as we set the pooling window as 2."
   ]
  },
  {
   "cell_type": "code",
   "execution_count": 100,
   "metadata": {},
   "outputs": [],
   "source": [
    "#initialize weights and biases for the 2nd conv layer\n",
    "w_c2 = tf.Variable(tf.random_normal([7,7,64,64]))"
   ]
  },
  {
   "cell_type": "code",
   "execution_count": 101,
   "metadata": {},
   "outputs": [],
   "source": [
    "conv2 = tf.nn.relu(conv2d(conv1, w_c2))\n",
    "#output dim - 32 x 32 x 64\n",
    "conv2 = maxpool2d(conv2)\n",
    "#output dimension will now be 16 x 16 x 64"
   ]
  },
  {
   "cell_type": "code",
   "execution_count": 102,
   "metadata": {},
   "outputs": [],
   "source": [
    "x_flattened = tf.reshape(conv2, [-1, 16*16*64])\n",
    "#weights and bias for FC layer\n",
    "w_fc = tf.Variable(tf.random_normal([16*16*64,1024]))\n",
    "b_fc = tf.Variable(tf.random_normal([1024]))"
   ]
  },
  {
   "cell_type": "code",
   "execution_count": 103,
   "metadata": {},
   "outputs": [],
   "source": [
    "#FC layer\n",
    "fc_layer = tf.nn.relu(tf.matmul(x_flattened, w_fc) + b_fc)"
   ]
  },
  {
   "cell_type": "code",
   "execution_count": 104,
   "metadata": {},
   "outputs": [],
   "source": [
    "#weights and bias of output layer\n",
    "w_out = tf.Variable(tf.random_normal([1024,6]))\n",
    "b_out = tf.Variable(tf.random_normal([6]))\n"
   ]
  },
  {
   "cell_type": "code",
   "execution_count": 105,
   "metadata": {},
   "outputs": [],
   "source": [
    "#output layer\n",
    "yhat = tf.nn.softmax(tf.matmul(fc_layer, w_out) + b_out)"
   ]
  },
  {
   "cell_type": "code",
   "execution_count": 106,
   "metadata": {},
   "outputs": [],
   "source": [
    "epochs = 100\n",
    "learning_rate = 0.009\n",
    "batch_size = 100"
   ]
  },
  {
   "cell_type": "code",
   "execution_count": 107,
   "metadata": {},
   "outputs": [],
   "source": [
    "cross_entropy = tf.reduce_mean(tf.nn.softmax_cross_entropy_with_logits(logits=yhat, labels=Y))\n",
    "optimizer = tf.train.AdamOptimizer(learning_rate = learning_rate).minimize(cross_entropy)"
   ]
  },
  {
   "cell_type": "code",
   "execution_count": 108,
   "metadata": {},
   "outputs": [],
   "source": [
    "correct_prediction = tf.equal(tf.arg_max(yhat,1),tf.arg_max(Y,1))\n",
    "accuracy = tf.reduce_mean(tf.cast(correct_prediction,'float'))"
   ]
  },
  {
   "cell_type": "code",
   "execution_count": 109,
   "metadata": {},
   "outputs": [
    {
     "name": "stdout",
     "output_type": "stream",
     "text": [
      "11\n",
      "[[[[0.90980392 0.88627451 0.8627451 ]\n",
      "   [0.90980392 0.89019608 0.8627451 ]\n",
      "   [0.90980392 0.89019608 0.8627451 ]\n",
      "   ...\n",
      "   [0.88235294 0.85882353 0.83137255]\n",
      "   [0.87843137 0.85490196 0.83137255]\n",
      "   [0.8745098  0.85098039 0.81960784]]\n",
      "\n",
      "  [[0.90980392 0.89019608 0.85882353]\n",
      "   [0.90980392 0.89019608 0.8627451 ]\n",
      "   [0.90980392 0.89019608 0.86666667]\n",
      "   ...\n",
      "   [0.87843137 0.85882353 0.83137255]\n",
      "   [0.87843137 0.85490196 0.82745098]\n",
      "   [0.8745098  0.85098039 0.82352941]]\n",
      "\n",
      "  [[0.90980392 0.89019608 0.85882353]\n",
      "   [0.90980392 0.89019608 0.8627451 ]\n",
      "   [0.90980392 0.89019608 0.86666667]\n",
      "   ...\n",
      "   [0.8745098  0.85098039 0.82745098]\n",
      "   [0.87058824 0.84705882 0.82352941]\n",
      "   [0.86666667 0.84705882 0.81568627]]\n",
      "\n",
      "  ...\n",
      "\n",
      "  [[0.84313725 0.82352941 0.79607843]\n",
      "   [0.84705882 0.82352941 0.79607843]\n",
      "   [0.84705882 0.82352941 0.79607843]\n",
      "   ...\n",
      "   [0.77647059 0.7372549  0.70980392]\n",
      "   [0.78039216 0.74117647 0.70980392]\n",
      "   [0.77647059 0.74117647 0.70588235]]\n",
      "\n",
      "  [[0.84313725 0.81960784 0.79215686]\n",
      "   [0.84313725 0.81960784 0.79215686]\n",
      "   [0.84313725 0.81960784 0.79607843]\n",
      "   ...\n",
      "   [0.77647059 0.74117647 0.70588235]\n",
      "   [0.77647059 0.74117647 0.70588235]\n",
      "   [0.77647059 0.74117647 0.70196078]]\n",
      "\n",
      "  [[0.83921569 0.81568627 0.78823529]\n",
      "   [0.83921569 0.81960784 0.79215686]\n",
      "   [0.84313725 0.81960784 0.79607843]\n",
      "   ...\n",
      "   [0.77254902 0.7372549  0.70196078]\n",
      "   [0.77647059 0.74117647 0.70588235]\n",
      "   [0.77647059 0.7372549  0.70196078]]]\n",
      "\n",
      "\n",
      " [[[0.91764706 0.90196078 0.8745098 ]\n",
      "   [0.91764706 0.90196078 0.8745098 ]\n",
      "   [0.91764706 0.90196078 0.8745098 ]\n",
      "   ...\n",
      "   [0.89803922 0.88235294 0.85490196]\n",
      "   [0.89411765 0.87843137 0.85490196]\n",
      "   [0.89411765 0.87843137 0.85098039]]\n",
      "\n",
      "  [[0.91372549 0.89803922 0.87058824]\n",
      "   [0.91372549 0.89803922 0.87058824]\n",
      "   [0.91372549 0.90196078 0.87058824]\n",
      "   ...\n",
      "   [0.89411765 0.88235294 0.85490196]\n",
      "   [0.89411765 0.87843137 0.85098039]\n",
      "   [0.89411765 0.87843137 0.84705882]]\n",
      "\n",
      "  [[0.91372549 0.89803922 0.87058824]\n",
      "   [0.91372549 0.89803922 0.87058824]\n",
      "   [0.91372549 0.90196078 0.87058824]\n",
      "   ...\n",
      "   [0.89019608 0.88235294 0.85490196]\n",
      "   [0.89019608 0.87843137 0.85098039]\n",
      "   [0.89019608 0.87843137 0.84705882]]\n",
      "\n",
      "  ...\n",
      "\n",
      "  [[0.83529412 0.81960784 0.79215686]\n",
      "   [0.83137255 0.81960784 0.79607843]\n",
      "   [0.83137255 0.81960784 0.79607843]\n",
      "   ...\n",
      "   [0.83529412 0.79607843 0.76470588]\n",
      "   [0.83921569 0.8        0.76470588]\n",
      "   [0.83921569 0.80392157 0.76470588]]\n",
      "\n",
      "  [[0.82745098 0.81176471 0.78431373]\n",
      "   [0.82745098 0.81176471 0.78431373]\n",
      "   [0.82745098 0.81176471 0.78431373]\n",
      "   ...\n",
      "   [0.83137255 0.79607843 0.76078431]\n",
      "   [0.83529412 0.8        0.76470588]\n",
      "   [0.83921569 0.80392157 0.76078431]]\n",
      "\n",
      "  [[0.82745098 0.80784314 0.78431373]\n",
      "   [0.82352941 0.81176471 0.78039216]\n",
      "   [0.82352941 0.80784314 0.78039216]\n",
      "   ...\n",
      "   [0.83137255 0.79215686 0.75686275]\n",
      "   [0.83529412 0.8        0.76078431]\n",
      "   [0.83921569 0.8        0.75686275]]]\n",
      "\n",
      "\n",
      " [[[0.90588235 0.87058824 0.83137255]\n",
      "   [0.90588235 0.87058824 0.83529412]\n",
      "   [0.90588235 0.8745098  0.83529412]\n",
      "   ...\n",
      "   [0.88627451 0.85490196 0.81568627]\n",
      "   [0.88235294 0.85490196 0.81568627]\n",
      "   [0.87843137 0.85098039 0.81176471]]\n",
      "\n",
      "  [[0.90588235 0.8745098  0.83137255]\n",
      "   [0.90980392 0.8745098  0.83529412]\n",
      "   [0.90980392 0.8745098  0.83529412]\n",
      "   ...\n",
      "   [0.88627451 0.85490196 0.81960784]\n",
      "   [0.88235294 0.85490196 0.81568627]\n",
      "   [0.88235294 0.85098039 0.81176471]]\n",
      "\n",
      "  [[0.90196078 0.87058824 0.83137255]\n",
      "   [0.90588235 0.8745098  0.83529412]\n",
      "   [0.90588235 0.8745098  0.83529412]\n",
      "   ...\n",
      "   [0.88235294 0.85490196 0.81960784]\n",
      "   [0.88235294 0.85490196 0.81960784]\n",
      "   [0.88235294 0.85098039 0.81176471]]\n",
      "\n",
      "  ...\n",
      "\n",
      "  [[0.74509804 0.72156863 0.70980392]\n",
      "   [0.74117647 0.72156863 0.70980392]\n",
      "   [0.74117647 0.72156863 0.70980392]\n",
      "   ...\n",
      "   [0.63529412 0.60392157 0.56470588]\n",
      "   [0.63137255 0.6        0.55686275]\n",
      "   [0.62745098 0.6        0.54901961]]\n",
      "\n",
      "  [[0.74117647 0.72156863 0.71372549]\n",
      "   [0.74117647 0.72156863 0.71372549]\n",
      "   [0.74117647 0.72156863 0.71372549]\n",
      "   ...\n",
      "   [0.62745098 0.59607843 0.55686275]\n",
      "   [0.62352941 0.59607843 0.55294118]\n",
      "   [0.61960784 0.59215686 0.54509804]]\n",
      "\n",
      "  [[0.7372549  0.71764706 0.70980392]\n",
      "   [0.7372549  0.71764706 0.70980392]\n",
      "   [0.7372549  0.71764706 0.70588235]\n",
      "   ...\n",
      "   [0.62352941 0.59215686 0.55294118]\n",
      "   [0.61960784 0.59215686 0.54901961]\n",
      "   [0.61960784 0.58823529 0.54509804]]]\n",
      "\n",
      "\n",
      " ...\n",
      "\n",
      "\n",
      " [[[0.90196078 0.87058824 0.83137255]\n",
      "   [0.90196078 0.87058824 0.83921569]\n",
      "   [0.90196078 0.8745098  0.83921569]\n",
      "   ...\n",
      "   [0.90588235 0.88235294 0.85098039]\n",
      "   [0.90196078 0.87843137 0.85098039]\n",
      "   [0.89803922 0.8745098  0.83921569]]\n",
      "\n",
      "  [[0.89803922 0.86666667 0.83137255]\n",
      "   [0.89803922 0.87058824 0.83529412]\n",
      "   [0.89803922 0.8745098  0.83529412]\n",
      "   ...\n",
      "   [0.90196078 0.88235294 0.85490196]\n",
      "   [0.90196078 0.88235294 0.85490196]\n",
      "   [0.89803922 0.87843137 0.84313725]]\n",
      "\n",
      "  [[0.89803922 0.86666667 0.83137255]\n",
      "   [0.89803922 0.86666667 0.83137255]\n",
      "   [0.89803922 0.87058824 0.83529412]\n",
      "   ...\n",
      "   [0.89803922 0.88235294 0.85490196]\n",
      "   [0.90196078 0.88235294 0.85098039]\n",
      "   [0.90196078 0.87843137 0.84705882]]\n",
      "\n",
      "  ...\n",
      "\n",
      "  [[0.73333333 0.69411765 0.64705882]\n",
      "   [0.72941176 0.69411765 0.65098039]\n",
      "   [0.7254902  0.69411765 0.64705882]\n",
      "   ...\n",
      "   [0.43921569 0.29411765 0.20392157]\n",
      "   [0.45098039 0.33333333 0.2627451 ]\n",
      "   [0.50196078 0.41568627 0.35294118]]\n",
      "\n",
      "  [[0.72941176 0.69019608 0.64705882]\n",
      "   [0.7254902  0.69019608 0.64705882]\n",
      "   [0.7254902  0.69019608 0.64705882]\n",
      "   ...\n",
      "   [0.48235294 0.30588235 0.19607843]\n",
      "   [0.45098039 0.28627451 0.18039216]\n",
      "   [0.42352941 0.27058824 0.16862745]]\n",
      "\n",
      "  [[0.7254902  0.69019608 0.64705882]\n",
      "   [0.7254902  0.69019608 0.64705882]\n",
      "   [0.7254902  0.69019608 0.64313725]\n",
      "   ...\n",
      "   [0.52941176 0.34117647 0.21960784]\n",
      "   [0.51372549 0.32941176 0.20784314]\n",
      "   [0.49019608 0.30980392 0.18823529]]]\n",
      "\n",
      "\n",
      " [[[0.90980392 0.89019608 0.8627451 ]\n",
      "   [0.91372549 0.89411765 0.86666667]\n",
      "   [0.90980392 0.89411765 0.86666667]\n",
      "   ...\n",
      "   [0.88627451 0.8627451  0.83529412]\n",
      "   [0.88235294 0.85882353 0.83137255]\n",
      "   [0.8745098  0.85490196 0.81960784]]\n",
      "\n",
      "  [[0.90980392 0.89019608 0.86666667]\n",
      "   [0.90980392 0.89411765 0.87058824]\n",
      "   [0.90980392 0.89411765 0.86666667]\n",
      "   ...\n",
      "   [0.88235294 0.85882353 0.83529412]\n",
      "   [0.88235294 0.85882353 0.83137255]\n",
      "   [0.8745098  0.85490196 0.81960784]]\n",
      "\n",
      "  [[0.90980392 0.89019608 0.86666667]\n",
      "   [0.90980392 0.89411765 0.86666667]\n",
      "   [0.90980392 0.89411765 0.86666667]\n",
      "   ...\n",
      "   [0.87843137 0.85490196 0.83137255]\n",
      "   [0.8745098  0.85490196 0.82745098]\n",
      "   [0.87058824 0.85098039 0.82352941]]\n",
      "\n",
      "  ...\n",
      "\n",
      "  [[0.84705882 0.82745098 0.8       ]\n",
      "   [0.85098039 0.82745098 0.80392157]\n",
      "   [0.84705882 0.82745098 0.80392157]\n",
      "   ...\n",
      "   [0.78431373 0.74509804 0.71764706]\n",
      "   [0.78431373 0.74901961 0.71372549]\n",
      "   [0.78431373 0.74901961 0.70980392]]\n",
      "\n",
      "  [[0.84705882 0.82352941 0.79607843]\n",
      "   [0.84705882 0.82352941 0.8       ]\n",
      "   [0.84705882 0.82745098 0.8       ]\n",
      "   ...\n",
      "   [0.78039216 0.74509804 0.71372549]\n",
      "   [0.78039216 0.74509804 0.70980392]\n",
      "   [0.78431373 0.74901961 0.70588235]]\n",
      "\n",
      "  [[0.84313725 0.82352941 0.79607843]\n",
      "   [0.84705882 0.82352941 0.8       ]\n",
      "   [0.84705882 0.82352941 0.79607843]\n",
      "   ...\n",
      "   [0.78039216 0.74117647 0.71372549]\n",
      "   [0.78039216 0.74117647 0.70980392]\n",
      "   [0.78039216 0.74117647 0.70588235]]]\n",
      "\n",
      "\n",
      " [[[0.90588235 0.87843137 0.84705882]\n",
      "   [0.90588235 0.88235294 0.84705882]\n",
      "   [0.90196078 0.88235294 0.85098039]\n",
      "   ...\n",
      "   [0.87843137 0.85882353 0.83137255]\n",
      "   [0.8745098  0.85490196 0.83137255]\n",
      "   [0.8745098  0.85490196 0.81960784]]\n",
      "\n",
      "  [[0.90588235 0.87843137 0.84705882]\n",
      "   [0.90588235 0.88235294 0.84705882]\n",
      "   [0.90196078 0.88235294 0.85098039]\n",
      "   ...\n",
      "   [0.87843137 0.85882353 0.83137255]\n",
      "   [0.8745098  0.85882353 0.83137255]\n",
      "   [0.8745098  0.85490196 0.82352941]]\n",
      "\n",
      "  [[0.90196078 0.87843137 0.84705882]\n",
      "   [0.90588235 0.88235294 0.85098039]\n",
      "   [0.90196078 0.88627451 0.85098039]\n",
      "   ...\n",
      "   [0.8745098  0.85882353 0.83137255]\n",
      "   [0.8745098  0.85882353 0.82745098]\n",
      "   [0.8745098  0.85490196 0.82352941]]\n",
      "\n",
      "  ...\n",
      "\n",
      "  [[0.73333333 0.70980392 0.69411765]\n",
      "   [0.7372549  0.71372549 0.69803922]\n",
      "   [0.73333333 0.71372549 0.70196078]\n",
      "   ...\n",
      "   [0.64705882 0.61960784 0.58431373]\n",
      "   [0.63921569 0.61568627 0.57647059]\n",
      "   [0.63137255 0.60784314 0.56862745]]\n",
      "\n",
      "  [[0.73333333 0.71764706 0.70588235]\n",
      "   [0.7372549  0.71764706 0.70588235]\n",
      "   [0.7372549  0.71764706 0.70980392]\n",
      "   ...\n",
      "   [0.63529412 0.61176471 0.57254902]\n",
      "   [0.63137255 0.60392157 0.56862745]\n",
      "   [0.62745098 0.60392157 0.56078431]]\n",
      "\n",
      "  [[0.73333333 0.72156863 0.70980392]\n",
      "   [0.7372549  0.72156863 0.71372549]\n",
      "   [0.73333333 0.72156863 0.71764706]\n",
      "   ...\n",
      "   [0.62352941 0.6        0.56470588]\n",
      "   [0.62352941 0.6        0.56078431]\n",
      "   [0.62352941 0.59607843 0.55686275]]]]\n"
     ]
    }
   ],
   "source": [
    "minibatches = random_mini_batches(train_x, train_y, batch_size)\n",
    "(mini_batch_x, mini_batch_y) = minibatches[10]\n",
    "print(len(minibatches))\n",
    "print(mini_batch_x)"
   ]
  },
  {
   "cell_type": "code",
   "execution_count": 110,
   "metadata": {},
   "outputs": [
    {
     "name": "stdout",
     "output_type": "stream",
     "text": [
      "Epoch: 0 avg_cost: 2.0652009487152103\n",
      "Epoch: 5 avg_cost: 2.0657009363174437\n"
     ]
    },
    {
     "ename": "KeyboardInterrupt",
     "evalue": "",
     "output_type": "error",
     "traceback": [
      "\u001b[1;31m---------------------------------------------------------------------------\u001b[0m",
      "\u001b[1;31mKeyboardInterrupt\u001b[0m                         Traceback (most recent call last)",
      "\u001b[1;32m<ipython-input-110-255af95926cb>\u001b[0m in \u001b[0;36m<module>\u001b[1;34m()\u001b[0m\n\u001b[0;32m     11\u001b[0m         \u001b[1;32mfor\u001b[0m \u001b[0mmini_batch\u001b[0m \u001b[1;32min\u001b[0m \u001b[0mminibatches\u001b[0m\u001b[1;33m:\u001b[0m\u001b[1;33m\u001b[0m\u001b[0m\n\u001b[0;32m     12\u001b[0m             \u001b[1;33m(\u001b[0m\u001b[0mmini_batch_x\u001b[0m\u001b[1;33m,\u001b[0m \u001b[0mmini_batch_y\u001b[0m\u001b[1;33m)\u001b[0m \u001b[1;33m=\u001b[0m \u001b[0mmini_batch\u001b[0m\u001b[1;33m\u001b[0m\u001b[0m\n\u001b[1;32m---> 13\u001b[1;33m             \u001b[0m_\u001b[0m\u001b[1;33m,\u001b[0m\u001b[0mtemp_cost\u001b[0m \u001b[1;33m=\u001b[0m \u001b[0msess\u001b[0m\u001b[1;33m.\u001b[0m\u001b[0mrun\u001b[0m\u001b[1;33m(\u001b[0m\u001b[1;33m[\u001b[0m\u001b[0moptimizer\u001b[0m\u001b[1;33m,\u001b[0m \u001b[0mcross_entropy\u001b[0m\u001b[1;33m]\u001b[0m\u001b[1;33m,\u001b[0m\u001b[0mfeed_dict\u001b[0m\u001b[1;33m=\u001b[0m\u001b[1;33m{\u001b[0m\u001b[0mX\u001b[0m\u001b[1;33m:\u001b[0m\u001b[0mmini_batch_x\u001b[0m\u001b[1;33m,\u001b[0m\u001b[0mY\u001b[0m\u001b[1;33m:\u001b[0m\u001b[0mmini_batch_y\u001b[0m\u001b[1;33m}\u001b[0m\u001b[1;33m)\u001b[0m\u001b[1;33m\u001b[0m\u001b[0m\n\u001b[0m\u001b[0;32m     14\u001b[0m             \u001b[0mavg_cost\u001b[0m \u001b[1;33m+=\u001b[0m \u001b[0mtemp_cost\u001b[0m\u001b[1;33m/\u001b[0m\u001b[0mtotal_batches\u001b[0m\u001b[1;33m\u001b[0m\u001b[0m\n\u001b[0;32m     15\u001b[0m         \u001b[0mcosts\u001b[0m\u001b[1;33m.\u001b[0m\u001b[0mappend\u001b[0m\u001b[1;33m(\u001b[0m\u001b[0mavg_cost\u001b[0m\u001b[1;33m)\u001b[0m\u001b[1;33m\u001b[0m\u001b[0m\n",
      "\u001b[1;32m~\\AppData\\Local\\Continuum\\anaconda3\\envs\\tensorflow\\lib\\site-packages\\tensorflow\\python\\client\\session.py\u001b[0m in \u001b[0;36mrun\u001b[1;34m(self, fetches, feed_dict, options, run_metadata)\u001b[0m\n\u001b[0;32m    927\u001b[0m     \u001b[1;32mtry\u001b[0m\u001b[1;33m:\u001b[0m\u001b[1;33m\u001b[0m\u001b[0m\n\u001b[0;32m    928\u001b[0m       result = self._run(None, fetches, feed_dict, options_ptr,\n\u001b[1;32m--> 929\u001b[1;33m                          run_metadata_ptr)\n\u001b[0m\u001b[0;32m    930\u001b[0m       \u001b[1;32mif\u001b[0m \u001b[0mrun_metadata\u001b[0m\u001b[1;33m:\u001b[0m\u001b[1;33m\u001b[0m\u001b[0m\n\u001b[0;32m    931\u001b[0m         \u001b[0mproto_data\u001b[0m \u001b[1;33m=\u001b[0m \u001b[0mtf_session\u001b[0m\u001b[1;33m.\u001b[0m\u001b[0mTF_GetBuffer\u001b[0m\u001b[1;33m(\u001b[0m\u001b[0mrun_metadata_ptr\u001b[0m\u001b[1;33m)\u001b[0m\u001b[1;33m\u001b[0m\u001b[0m\n",
      "\u001b[1;32m~\\AppData\\Local\\Continuum\\anaconda3\\envs\\tensorflow\\lib\\site-packages\\tensorflow\\python\\client\\session.py\u001b[0m in \u001b[0;36m_run\u001b[1;34m(self, handle, fetches, feed_dict, options, run_metadata)\u001b[0m\n\u001b[0;32m   1150\u001b[0m     \u001b[1;32mif\u001b[0m \u001b[0mfinal_fetches\u001b[0m \u001b[1;32mor\u001b[0m \u001b[0mfinal_targets\u001b[0m \u001b[1;32mor\u001b[0m \u001b[1;33m(\u001b[0m\u001b[0mhandle\u001b[0m \u001b[1;32mand\u001b[0m \u001b[0mfeed_dict_tensor\u001b[0m\u001b[1;33m)\u001b[0m\u001b[1;33m:\u001b[0m\u001b[1;33m\u001b[0m\u001b[0m\n\u001b[0;32m   1151\u001b[0m       results = self._do_run(handle, final_targets, final_fetches,\n\u001b[1;32m-> 1152\u001b[1;33m                              feed_dict_tensor, options, run_metadata)\n\u001b[0m\u001b[0;32m   1153\u001b[0m     \u001b[1;32melse\u001b[0m\u001b[1;33m:\u001b[0m\u001b[1;33m\u001b[0m\u001b[0m\n\u001b[0;32m   1154\u001b[0m       \u001b[0mresults\u001b[0m \u001b[1;33m=\u001b[0m \u001b[1;33m[\u001b[0m\u001b[1;33m]\u001b[0m\u001b[1;33m\u001b[0m\u001b[0m\n",
      "\u001b[1;32m~\\AppData\\Local\\Continuum\\anaconda3\\envs\\tensorflow\\lib\\site-packages\\tensorflow\\python\\client\\session.py\u001b[0m in \u001b[0;36m_do_run\u001b[1;34m(self, handle, target_list, fetch_list, feed_dict, options, run_metadata)\u001b[0m\n\u001b[0;32m   1326\u001b[0m     \u001b[1;32mif\u001b[0m \u001b[0mhandle\u001b[0m \u001b[1;32mis\u001b[0m \u001b[1;32mNone\u001b[0m\u001b[1;33m:\u001b[0m\u001b[1;33m\u001b[0m\u001b[0m\n\u001b[0;32m   1327\u001b[0m       return self._do_call(_run_fn, feeds, fetches, targets, options,\n\u001b[1;32m-> 1328\u001b[1;33m                            run_metadata)\n\u001b[0m\u001b[0;32m   1329\u001b[0m     \u001b[1;32melse\u001b[0m\u001b[1;33m:\u001b[0m\u001b[1;33m\u001b[0m\u001b[0m\n\u001b[0;32m   1330\u001b[0m       \u001b[1;32mreturn\u001b[0m \u001b[0mself\u001b[0m\u001b[1;33m.\u001b[0m\u001b[0m_do_call\u001b[0m\u001b[1;33m(\u001b[0m\u001b[0m_prun_fn\u001b[0m\u001b[1;33m,\u001b[0m \u001b[0mhandle\u001b[0m\u001b[1;33m,\u001b[0m \u001b[0mfeeds\u001b[0m\u001b[1;33m,\u001b[0m \u001b[0mfetches\u001b[0m\u001b[1;33m)\u001b[0m\u001b[1;33m\u001b[0m\u001b[0m\n",
      "\u001b[1;32m~\\AppData\\Local\\Continuum\\anaconda3\\envs\\tensorflow\\lib\\site-packages\\tensorflow\\python\\client\\session.py\u001b[0m in \u001b[0;36m_do_call\u001b[1;34m(self, fn, *args)\u001b[0m\n\u001b[0;32m   1332\u001b[0m   \u001b[1;32mdef\u001b[0m \u001b[0m_do_call\u001b[0m\u001b[1;33m(\u001b[0m\u001b[0mself\u001b[0m\u001b[1;33m,\u001b[0m \u001b[0mfn\u001b[0m\u001b[1;33m,\u001b[0m \u001b[1;33m*\u001b[0m\u001b[0margs\u001b[0m\u001b[1;33m)\u001b[0m\u001b[1;33m:\u001b[0m\u001b[1;33m\u001b[0m\u001b[0m\n\u001b[0;32m   1333\u001b[0m     \u001b[1;32mtry\u001b[0m\u001b[1;33m:\u001b[0m\u001b[1;33m\u001b[0m\u001b[0m\n\u001b[1;32m-> 1334\u001b[1;33m       \u001b[1;32mreturn\u001b[0m \u001b[0mfn\u001b[0m\u001b[1;33m(\u001b[0m\u001b[1;33m*\u001b[0m\u001b[0margs\u001b[0m\u001b[1;33m)\u001b[0m\u001b[1;33m\u001b[0m\u001b[0m\n\u001b[0m\u001b[0;32m   1335\u001b[0m     \u001b[1;32mexcept\u001b[0m \u001b[0merrors\u001b[0m\u001b[1;33m.\u001b[0m\u001b[0mOpError\u001b[0m \u001b[1;32mas\u001b[0m \u001b[0me\u001b[0m\u001b[1;33m:\u001b[0m\u001b[1;33m\u001b[0m\u001b[0m\n\u001b[0;32m   1336\u001b[0m       \u001b[0mmessage\u001b[0m \u001b[1;33m=\u001b[0m \u001b[0mcompat\u001b[0m\u001b[1;33m.\u001b[0m\u001b[0mas_text\u001b[0m\u001b[1;33m(\u001b[0m\u001b[0me\u001b[0m\u001b[1;33m.\u001b[0m\u001b[0mmessage\u001b[0m\u001b[1;33m)\u001b[0m\u001b[1;33m\u001b[0m\u001b[0m\n",
      "\u001b[1;32m~\\AppData\\Local\\Continuum\\anaconda3\\envs\\tensorflow\\lib\\site-packages\\tensorflow\\python\\client\\session.py\u001b[0m in \u001b[0;36m_run_fn\u001b[1;34m(feed_dict, fetch_list, target_list, options, run_metadata)\u001b[0m\n\u001b[0;32m   1317\u001b[0m       \u001b[0mself\u001b[0m\u001b[1;33m.\u001b[0m\u001b[0m_extend_graph\u001b[0m\u001b[1;33m(\u001b[0m\u001b[1;33m)\u001b[0m\u001b[1;33m\u001b[0m\u001b[0m\n\u001b[0;32m   1318\u001b[0m       return self._call_tf_sessionrun(\n\u001b[1;32m-> 1319\u001b[1;33m           options, feed_dict, fetch_list, target_list, run_metadata)\n\u001b[0m\u001b[0;32m   1320\u001b[0m \u001b[1;33m\u001b[0m\u001b[0m\n\u001b[0;32m   1321\u001b[0m     \u001b[1;32mdef\u001b[0m \u001b[0m_prun_fn\u001b[0m\u001b[1;33m(\u001b[0m\u001b[0mhandle\u001b[0m\u001b[1;33m,\u001b[0m \u001b[0mfeed_dict\u001b[0m\u001b[1;33m,\u001b[0m \u001b[0mfetch_list\u001b[0m\u001b[1;33m)\u001b[0m\u001b[1;33m:\u001b[0m\u001b[1;33m\u001b[0m\u001b[0m\n",
      "\u001b[1;32m~\\AppData\\Local\\Continuum\\anaconda3\\envs\\tensorflow\\lib\\site-packages\\tensorflow\\python\\client\\session.py\u001b[0m in \u001b[0;36m_call_tf_sessionrun\u001b[1;34m(self, options, feed_dict, fetch_list, target_list, run_metadata)\u001b[0m\n\u001b[0;32m   1405\u001b[0m     return tf_session.TF_SessionRun_wrapper(\n\u001b[0;32m   1406\u001b[0m         \u001b[0mself\u001b[0m\u001b[1;33m.\u001b[0m\u001b[0m_session\u001b[0m\u001b[1;33m,\u001b[0m \u001b[0moptions\u001b[0m\u001b[1;33m,\u001b[0m \u001b[0mfeed_dict\u001b[0m\u001b[1;33m,\u001b[0m \u001b[0mfetch_list\u001b[0m\u001b[1;33m,\u001b[0m \u001b[0mtarget_list\u001b[0m\u001b[1;33m,\u001b[0m\u001b[1;33m\u001b[0m\u001b[0m\n\u001b[1;32m-> 1407\u001b[1;33m         run_metadata)\n\u001b[0m\u001b[0;32m   1408\u001b[0m \u001b[1;33m\u001b[0m\u001b[0m\n\u001b[0;32m   1409\u001b[0m   \u001b[1;32mdef\u001b[0m \u001b[0m_call_tf_sessionprun\u001b[0m\u001b[1;33m(\u001b[0m\u001b[0mself\u001b[0m\u001b[1;33m,\u001b[0m \u001b[0mhandle\u001b[0m\u001b[1;33m,\u001b[0m \u001b[0mfeed_dict\u001b[0m\u001b[1;33m,\u001b[0m \u001b[0mfetch_list\u001b[0m\u001b[1;33m)\u001b[0m\u001b[1;33m:\u001b[0m\u001b[1;33m\u001b[0m\u001b[0m\n",
      "\u001b[1;31mKeyboardInterrupt\u001b[0m: "
     ]
    }
   ],
   "source": [
    "init = tf.global_variables_initializer()\n",
    "with tf.Session() as sess:\n",
    "    sess.run(init)\n",
    "    costs = []\n",
    "    m = train_x.shape[0]\n",
    "    total_batches = int(len(train_x) / batch_size)\n",
    "    for epoch in range(epochs):\n",
    "        avg_cost = 0\n",
    "        minibatches = random_mini_batches(train_x, train_y, batch_size)\n",
    "        #num_minibatches = int(m/batch_size)\n",
    "        for mini_batch in minibatches:\n",
    "            (mini_batch_x, mini_batch_y) = mini_batch\n",
    "            _,temp_cost = sess.run([optimizer, cross_entropy],feed_dict={X:mini_batch_x,Y:mini_batch_y})\n",
    "            avg_cost += temp_cost/total_batches\n",
    "        costs.append(avg_cost)\n",
    "        if(epoch%5==0):\n",
    "            print(\"Epoch: {} avg_cost: {}\".format(epoch, avg_cost))\n",
    "    plt.plot(np.squeeze(costs))\n",
    "    plt.xlabel('learning_rate')\n",
    "    plt.ylabel('costs')\n",
    "    plt.title('Error rate')\n",
    "    train_acc = sess.run(accuracy, feed_dict={X:train_x, Y:train_y})\n",
    "    test_acc = sess.run(accuracy, feed_dict={X:test_x, Y:test_y})\n",
    "    print('Accuracy on train set: ',train_acc)\n",
    "    print('Accuracy on test set: ',test_acc)"
   ]
  },
  {
   "cell_type": "code",
   "execution_count": null,
   "metadata": {},
   "outputs": [],
   "source": []
  }
 ],
 "metadata": {
  "kernelspec": {
   "display_name": "Python 3",
   "language": "python",
   "name": "python3"
  },
  "language_info": {
   "codemirror_mode": {
    "name": "ipython",
    "version": 3
   },
   "file_extension": ".py",
   "mimetype": "text/x-python",
   "name": "python",
   "nbconvert_exporter": "python",
   "pygments_lexer": "ipython3",
   "version": "3.5.6"
  }
 },
 "nbformat": 4,
 "nbformat_minor": 2
}
