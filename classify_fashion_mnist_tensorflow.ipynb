{
 "cells": [
  {
   "cell_type": "code",
   "execution_count": 1,
   "metadata": {},
   "outputs": [],
   "source": [
    "import tensorflow as tf\n",
    "import numpy as np\n",
    "import matplotlib.pyplot as plt\n",
    "import warnings\n",
    "warnings.filterwarnings('ignore')"
   ]
  },
  {
   "cell_type": "code",
   "execution_count": 2,
   "metadata": {},
   "outputs": [
    {
     "name": "stdout",
     "output_type": "stream",
     "text": [
      "WARNING:tensorflow:From <ipython-input-2-0f762d579eb3>:2: read_data_sets (from tensorflow.contrib.learn.python.learn.datasets.mnist) is deprecated and will be removed in a future version.\n",
      "Instructions for updating:\n",
      "Please use alternatives such as official/mnist/dataset.py from tensorflow/models.\n",
      "WARNING:tensorflow:From C:\\Users\\a.ezhilarasan\\AppData\\Local\\Continuum\\anaconda3\\envs\\tensorflow\\lib\\site-packages\\tensorflow\\contrib\\learn\\python\\learn\\datasets\\mnist.py:260: maybe_download (from tensorflow.contrib.learn.python.learn.datasets.base) is deprecated and will be removed in a future version.\n",
      "Instructions for updating:\n",
      "Please write your own downloading logic.\n",
      "WARNING:tensorflow:From C:\\Users\\a.ezhilarasan\\AppData\\Local\\Continuum\\anaconda3\\envs\\tensorflow\\lib\\site-packages\\tensorflow\\contrib\\learn\\python\\learn\\datasets\\mnist.py:262: extract_images (from tensorflow.contrib.learn.python.learn.datasets.mnist) is deprecated and will be removed in a future version.\n",
      "Instructions for updating:\n",
      "Please use tf.data to implement this functionality.\n",
      "Extracting /tmp/data1/train-images-idx3-ubyte.gz\n",
      "WARNING:tensorflow:From C:\\Users\\a.ezhilarasan\\AppData\\Local\\Continuum\\anaconda3\\envs\\tensorflow\\lib\\site-packages\\tensorflow\\contrib\\learn\\python\\learn\\datasets\\mnist.py:267: extract_labels (from tensorflow.contrib.learn.python.learn.datasets.mnist) is deprecated and will be removed in a future version.\n",
      "Instructions for updating:\n",
      "Please use tf.data to implement this functionality.\n",
      "Extracting /tmp/data1/train-labels-idx1-ubyte.gz\n",
      "WARNING:tensorflow:From C:\\Users\\a.ezhilarasan\\AppData\\Local\\Continuum\\anaconda3\\envs\\tensorflow\\lib\\site-packages\\tensorflow\\contrib\\learn\\python\\learn\\datasets\\mnist.py:110: dense_to_one_hot (from tensorflow.contrib.learn.python.learn.datasets.mnist) is deprecated and will be removed in a future version.\n",
      "Instructions for updating:\n",
      "Please use tf.one_hot on tensors.\n",
      "Extracting /tmp/data1/t10k-images-idx3-ubyte.gz\n",
      "Extracting /tmp/data1/t10k-labels-idx1-ubyte.gz\n",
      "WARNING:tensorflow:From C:\\Users\\a.ezhilarasan\\AppData\\Local\\Continuum\\anaconda3\\envs\\tensorflow\\lib\\site-packages\\tensorflow\\contrib\\learn\\python\\learn\\datasets\\mnist.py:290: DataSet.__init__ (from tensorflow.contrib.learn.python.learn.datasets.mnist) is deprecated and will be removed in a future version.\n",
      "Instructions for updating:\n",
      "Please use alternatives such as official/mnist/dataset.py from tensorflow/models.\n"
     ]
    }
   ],
   "source": [
    "from tensorflow.examples.tutorials.mnist import input_data\n",
    "fashion_mnist = input_data.read_data_sets(\"/tmp/data1/\", one_hot=True, source_url='http://fashion-mnist.s3-website.eu-central-1.amazonaws.com/')"
   ]
  },
  {
   "cell_type": "code",
   "execution_count": 3,
   "metadata": {},
   "outputs": [
    {
     "name": "stdout",
     "output_type": "stream",
     "text": [
      "no.of examples in training set: (55000, 784)\n",
      "no.of labels in training set: (55000, 10)\n",
      "no.of examples in test set: (10000, 784)\n",
      "no.of labels in test set: (10000, 10)\n"
     ]
    }
   ],
   "source": [
    "print(\"no.of examples in training set: {}\".format(fashion_mnist.train.images.shape))\n",
    "print(\"no.of labels in training set: {}\".format(fashion_mnist.train.labels.shape))\n",
    "print(\"no.of examples in test set: {}\".format(fashion_mnist.test.images.shape))\n",
    "print(\"no.of labels in test set: {}\".format(fashion_mnist.test.labels.shape))"
   ]
  },
  {
   "cell_type": "code",
   "execution_count": 4,
   "metadata": {},
   "outputs": [],
   "source": [
    "labels = {\n",
    " 0: 'T-shirt/top',\n",
    " 1: 'Trouser',\n",
    " 2: 'Pullover',\n",
    " 3: 'Dress',\n",
    " 4: 'Coat',\n",
    " 5: 'Sandal',\n",
    " 6: 'Shirt',\n",
    " 7: 'Sneaker',\n",
    " 8: 'Bag',\n",
    " 9: 'Ankle boot'\n",
    "}"
   ]
  },
  {
   "cell_type": "code",
   "execution_count": 7,
   "metadata": {},
   "outputs": [
    {
     "name": "stdout",
     "output_type": "stream",
     "text": [
      "y = 5 (Sandal)\n"
     ]
    },
    {
     "data": {
      "image/png": "[encoded data removed]",
      "text/plain": [
       "<Figure size 432x288 with 1 Axes>"
      ]
     },
     "metadata": {
      "needs_background": "light"
     },
     "output_type": "display_data"
    }
   ],
   "source": [
    "img1 = fashion_mnist.train.images[30].reshape(28,28)\n",
    "plt.imshow(img1, cmap='Greys')\n",
    "label1 = np.where(fashion_mnist.train.labels[30]==1)[0][0]\n",
    "print(\"y = {} ({})\".format(label1,labels[label1]))"
   ]
  },
  {
   "cell_type": "code",
   "execution_count": 39,
   "metadata": {},
   "outputs": [
    {
     "name": "stdout",
     "output_type": "stream",
     "text": [
      "y = 7 (Sneaker)\n"
     ]
    },
    {
     "data": {
      "image/png": "[encoded data removed]",
      "text/plain": [
       "<Figure size 432x288 with 1 Axes>"
      ]
     },
     "metadata": {},
     "output_type": "display_data"
    }
   ],
   "source": [
    "img2 = fashion_mnist.train.images[20].reshape(28,28)\n",
    "plt.imshow(img2, cmap='Greys')\n",
    "label2 = np.where(fashion_mnist.train.labels[20]==1)[0][0]\n",
    "print(\"y = {} ({})\".format(label2, labels[label2]))"
   ]
  },
  {
   "cell_type": "code",
   "execution_count": 8,
   "metadata": {},
   "outputs": [],
   "source": [
    "x = tf.placeholder(tf.float32, [None, 784])\n",
    "y = tf.placeholder(tf.float32, [None, 10])"
   ]
  },
  {
   "cell_type": "code",
   "execution_count": 9,
   "metadata": {},
   "outputs": [],
   "source": [
    "x_shaped = tf.reshape(x,[-1,28,28,1])"
   ]
  },
  {
   "cell_type": "code",
   "execution_count": 10,
   "metadata": {},
   "outputs": [],
   "source": [
    "def conv2d(x, W):\n",
    "    return tf.nn.conv2d(x, W, strides=[1,1,1,1], padding='SAME')\n"
   ]
  },
  {
   "cell_type": "code",
   "execution_count": 11,
   "metadata": {},
   "outputs": [],
   "source": [
    "def maxpool2d(x):\n",
    "    return tf.nn.max_pool(x, ksize=[1,2,2,1], strides=[1,2,2,1], padding='SAME')"
   ]
  },
  {
   "cell_type": "code",
   "execution_count": 12,
   "metadata": {},
   "outputs": [],
   "source": [
    "#define filters and biases for 1st convolution layer\n",
    "w_c1 = tf.Variable(tf.random_normal([5,5,1,32]))\n",
    "b_c1 = tf.Variable(tf.random_normal([1,1,1,32]))"
   ]
  },
  {
   "cell_type": "code",
   "execution_count": 13,
   "metadata": {},
   "outputs": [],
   "source": [
    "#perform convolution\n",
    "conv1 = tf.nn.relu(conv2d(x_shaped, w_c1))\n",
    "conv1 = maxpool2d(conv1)"
   ]
  },
  {
   "cell_type": "code",
   "execution_count": 48,
   "metadata": {},
   "outputs": [],
   "source": [
    "#output dimension of 1st convolution layer\n",
    "# as we use SAME padding, output of convolution layer remains (28 x 28 x 32)\n",
    "# pooling downsamples the image by 2. So at the end of CONV,POOLING -> (14 x 14 x 32)"
   ]
  },
  {
   "cell_type": "code",
   "execution_count": 14,
   "metadata": {},
   "outputs": [],
   "source": [
    "#define filters and biases for 2nd convolution layer\n",
    "w_c2 = tf.Variable(tf.random_normal([5,5,32,64]))\n",
    "b_c2 = tf.Variable(tf.random_normal([1,1,1,64]))"
   ]
  },
  {
   "cell_type": "code",
   "execution_count": 15,
   "metadata": {},
   "outputs": [],
   "source": [
    "conv2 = tf.nn.relu(conv2d(conv1, w_c2))\n",
    "conv2 = maxpool2d(conv2)"
   ]
  },
  {
   "cell_type": "code",
   "execution_count": 51,
   "metadata": {},
   "outputs": [],
   "source": [
    "#output dimension of 2nd convolution layer\n",
    "#SAME padding, output of CONV -> (14 x 14 x 64)\n",
    "#pooling downsamples the image by 2. So CONV,POOLING -> (7 x 7 x 64)\n"
   ]
  },
  {
   "cell_type": "code",
   "execution_count": 16,
   "metadata": {},
   "outputs": [],
   "source": [
    "#now flatten the output to feed it into the FC layer\n",
    "x_flattened = tf.reshape(conv2, [-1, 7*7*64])\n",
    "w_fc = tf.Variable(tf.random_normal([7*7*64,1024]))\n",
    "b_fc = tf.Variable(tf.random_normal([1024]))\n",
    "fc = tf.nn.relu(tf.matmul(x_flattened, w_fc) + b_fc)\n"
   ]
  },
  {
   "cell_type": "code",
   "execution_count": 17,
   "metadata": {},
   "outputs": [],
   "source": [
    "#output layer\n",
    "w_out = tf.Variable(tf.random_normal([1024,10]))\n",
    "b_out = tf.Variable(tf.random_normal([10]))\n",
    "output = tf.matmul(fc, w_out) + b_out\n",
    "yhat = tf.nn.softmax(output)"
   ]
  },
  {
   "cell_type": "code",
   "execution_count": 18,
   "metadata": {},
   "outputs": [
    {
     "name": "stdout",
     "output_type": "stream",
     "text": [
      "WARNING:tensorflow:From <ipython-input-18-cacb18974f71>:3: softmax_cross_entropy_with_logits (from tensorflow.python.ops.nn_ops) is deprecated and will be removed in a future version.\n",
      "Instructions for updating:\n",
      "\n",
      "Future major versions of TensorFlow will allow gradients to flow\n",
      "into the labels input on backprop by default.\n",
      "\n",
      "See `tf.nn.softmax_cross_entropy_with_logits_v2`.\n",
      "\n"
     ]
    }
   ],
   "source": [
    "learning_rate = 0.01\n",
    "#define a loss function as a cross entropy loss function\n",
    "cross_entropy = tf.reduce_mean(tf.nn.softmax_cross_entropy_with_logits(logits=output, labels=y))\n",
    "#minimize the loss function using an optimizer called adam optimizer\n",
    "optimizer = tf.train.AdamOptimizer(learning_rate=learning_rate).minimize(cross_entropy)"
   ]
  },
  {
   "cell_type": "code",
   "execution_count": 19,
   "metadata": {},
   "outputs": [],
   "source": [
    "correct_prediction = tf.equal(tf.argmax(y,1),tf.argmax(yhat,1))\n",
    "accuracy = tf.reduce_mean(tf.cast(correct_prediction, tf.float32))"
   ]
  },
  {
   "cell_type": "code",
   "execution_count": 20,
   "metadata": {},
   "outputs": [],
   "source": [
    "epochs = 10\n",
    "batch_size = 100\n"
   ]
  },
  {
   "cell_type": "code",
   "execution_count": 21,
   "metadata": {},
   "outputs": [
    {
     "name": "stdout",
     "output_type": "stream",
     "text": [
      "Epoch: 0 avg_cost: 1891.687277818161\n",
      "Epoch: 1 avg_cost: 85.30039138793943\n",
      "Epoch: 2 avg_cost: 39.52445043043653\n",
      "Epoch: 3 avg_cost: 22.03201013044877\n",
      "Epoch: 4 avg_cost: 14.176420402093354\n",
      "Epoch: 5 avg_cost: 9.900628008625727\n",
      "Epoch: 6 avg_cost: 7.761369629339741\n",
      "Epoch: 7 avg_cost: 6.416437492587351\n",
      "Epoch: 8 avg_cost: 5.7340288481929065\n",
      "Epoch: 9 avg_cost: 5.012077119133682\n",
      "Training completed...\n",
      "Accuracy:  0.7296\n",
      "Predictions:  [9 2 1 ... 1 1 5]\n"
     ]
    }
   ],
   "source": [
    "init_op = tf.global_variables_initializer()\n",
    "\n",
    "with tf.Session() as sess:\n",
    "    sess.run(init_op)\n",
    "    total_batches = int(len(fashion_mnist.train.labels)/batch_size)\n",
    "    for epoch in range(epochs):\n",
    "        avg_cost = 0\n",
    "        for i in range(total_batches):\n",
    "            x_train, y_train = fashion_mnist.train.next_batch(batch_size)\n",
    "            _, c = sess.run([optimizer, cross_entropy], feed_dict = {x:x_train, y:y_train})\n",
    "            avg_cost += c/total_batches\n",
    "        print(\"Epoch: {} avg_cost: {}\".format(epoch,avg_cost))\n",
    "    print(\"Training completed...\")    \n",
    "    acc = sess.run(accuracy, feed_dict={x:fashion_mnist.test.images,y:fashion_mnist.test.labels})\n",
    "    predictions = sess.run(tf.argmax(yhat,1), feed_dict = {x:fashion_mnist.test.images})\n",
    "    print(\"Accuracy: \",acc)\n",
    "    print(\"Predictions: \", predictions)"
   ]
  },
  {
   "cell_type": "code",
   "execution_count": 28,
   "metadata": {},
   "outputs": [
    {
     "name": "stdout",
     "output_type": "stream",
     "text": [
      "Actual:  Pullover\n",
      "Predicted:  Pullover\n"
     ]
    },
    {
     "data": {
      "image/png": "[encoded data removed]",
      "text/plain": [
       "<Figure size 432x288 with 1 Axes>"
      ]
     },
     "metadata": {
      "needs_background": "light"
     },
     "output_type": "display_data"
    }
   ],
   "source": [
    "#validation time\n",
    "test_img=fashion_mnist.test.images[16].reshape(28,28)\n",
    "plt.imshow(test_img, cmap='Greys')\n",
    "print(\"Actual: \", labels[np.where(fashion_mnist.test.labels[16]==1)[0][0]])\n",
    "print(\"Predicted: \",labels[predictions[16]])"
   ]
  },
  {
   "cell_type": "code",
   "execution_count": null,
   "metadata": {},
   "outputs": [],
   "source": []
  },
  {
   "cell_type": "code",
   "execution_count": null,
   "metadata": {},
   "outputs": [],
   "source": []
  }
 ],
 "metadata": {
  "kernelspec": {
   "display_name": "Python 3",
   "language": "python",
   "name": "python3"
  },
  "language_info": {
   "codemirror_mode": {
    "name": "ipython",
    "version": 3
   },
   "file_extension": ".py",
   "mimetype": "text/x-python",
   "name": "python",
   "nbconvert_exporter": "python",
   "pygments_lexer": "ipython3",
   "version": "3.5.6"
  }
 },
 "nbformat": 4,
 "nbformat_minor": 2
}
